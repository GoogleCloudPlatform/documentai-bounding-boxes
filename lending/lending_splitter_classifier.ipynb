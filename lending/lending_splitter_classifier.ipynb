{
 "cells": [
  {
   "cell_type": "markdown",
   "id": "4bf08fb8",
   "metadata": {},
   "source": [
    "# LDAI Splitter and Classifier (Synchronous v1)"
   ]
  },
  {
   "cell_type": "markdown",
   "id": "d7674d5d",
   "metadata": {},
   "source": [
    "This notebook demonstrates how to use the Lending Document Splitter and Classifier to parse a single PDF file with multiple scanned files (specifically mortgage and federal tax related documents) to separate these on logical boundaries. In addition, this parser will also classify based on known document types."
   ]
  },
  {
   "cell_type": "code",
   "execution_count": 1,
   "id": "e87b660d",
   "metadata": {},
   "outputs": [
    {
     "name": "stdout",
     "output_type": "stream",
     "text": [
      "Requirement already satisfied: google-cloud-core==1.6.0 in /opt/conda/lib/python3.7/site-packages (from -r ../requirements.txt (line 1)) (1.6.0)\n",
      "Requirement already satisfied: google-cloud-documentai==0.3.0 in /opt/conda/lib/python3.7/site-packages (from -r ../requirements.txt (line 2)) (0.3.0)\n",
      "Requirement already satisfied: google-cloud-storage==1.36.2 in /opt/conda/lib/python3.7/site-packages (from -r ../requirements.txt (line 3)) (1.36.2)\n",
      "Requirement already satisfied: google-auth<2.0dev,>=1.24.0 in /opt/conda/lib/python3.7/site-packages (from google-cloud-core==1.6.0->-r ../requirements.txt (line 1)) (1.28.0)\n",
      "Requirement already satisfied: google-api-core<2.0.0dev,>=1.21.0 in /opt/conda/lib/python3.7/site-packages (from google-cloud-core==1.6.0->-r ../requirements.txt (line 1)) (1.26.2)\n",
      "Requirement already satisfied: six>=1.12.0 in /opt/conda/lib/python3.7/site-packages (from google-cloud-core==1.6.0->-r ../requirements.txt (line 1)) (1.15.0)\n",
      "Requirement already satisfied: proto-plus>=1.10.0 in /opt/conda/lib/python3.7/site-packages (from google-cloud-documentai==0.3.0->-r ../requirements.txt (line 2)) (1.18.1)\n",
      "Requirement already satisfied: requests<3.0.0dev,>=2.18.0 in /opt/conda/lib/python3.7/site-packages (from google-cloud-storage==1.36.2->-r ../requirements.txt (line 3)) (2.25.1)\n",
      "Requirement already satisfied: google-resumable-media<2.0dev,>=1.2.0 in /opt/conda/lib/python3.7/site-packages (from google-cloud-storage==1.36.2->-r ../requirements.txt (line 3)) (1.2.0)\n",
      "Requirement already satisfied: protobuf>=3.12.0 in /opt/conda/lib/python3.7/site-packages (from google-api-core<2.0.0dev,>=1.21.0->google-cloud-core==1.6.0->-r ../requirements.txt (line 1)) (3.15.8)\n",
      "Requirement already satisfied: pytz in /opt/conda/lib/python3.7/site-packages (from google-api-core<2.0.0dev,>=1.21.0->google-cloud-core==1.6.0->-r ../requirements.txt (line 1)) (2021.1)\n",
      "Requirement already satisfied: setuptools>=40.3.0 in /opt/conda/lib/python3.7/site-packages (from google-api-core<2.0.0dev,>=1.21.0->google-cloud-core==1.6.0->-r ../requirements.txt (line 1)) (49.6.0.post20210108)\n",
      "Requirement already satisfied: googleapis-common-protos<2.0dev,>=1.6.0 in /opt/conda/lib/python3.7/site-packages (from google-api-core<2.0.0dev,>=1.21.0->google-cloud-core==1.6.0->-r ../requirements.txt (line 1)) (1.53.0)\n",
      "Requirement already satisfied: packaging>=14.3 in /opt/conda/lib/python3.7/site-packages (from google-api-core<2.0.0dev,>=1.21.0->google-cloud-core==1.6.0->-r ../requirements.txt (line 1)) (20.9)\n",
      "Requirement already satisfied: grpcio<2.0dev,>=1.29.0 in /opt/conda/lib/python3.7/site-packages (from google-api-core<2.0.0dev,>=1.21.0->google-cloud-core==1.6.0->-r ../requirements.txt (line 1)) (1.37.0)\n",
      "Requirement already satisfied: pyasn1-modules>=0.2.1 in /opt/conda/lib/python3.7/site-packages (from google-auth<2.0dev,>=1.24.0->google-cloud-core==1.6.0->-r ../requirements.txt (line 1)) (0.2.7)\n",
      "Requirement already satisfied: rsa<5,>=3.1.4 in /opt/conda/lib/python3.7/site-packages (from google-auth<2.0dev,>=1.24.0->google-cloud-core==1.6.0->-r ../requirements.txt (line 1)) (4.7.2)\n",
      "Requirement already satisfied: cachetools<5.0,>=2.0.0 in /opt/conda/lib/python3.7/site-packages (from google-auth<2.0dev,>=1.24.0->google-cloud-core==1.6.0->-r ../requirements.txt (line 1)) (4.2.1)\n",
      "Requirement already satisfied: google-crc32c<2.0dev,>=1.0 in /opt/conda/lib/python3.7/site-packages (from google-resumable-media<2.0dev,>=1.2.0->google-cloud-storage==1.36.2->-r ../requirements.txt (line 3)) (1.1.2)\n",
      "Requirement already satisfied: cffi>=1.0.0 in /opt/conda/lib/python3.7/site-packages (from google-crc32c<2.0dev,>=1.0->google-resumable-media<2.0dev,>=1.2.0->google-cloud-storage==1.36.2->-r ../requirements.txt (line 3)) (1.14.5)\n",
      "Requirement already satisfied: pycparser in /opt/conda/lib/python3.7/site-packages (from cffi>=1.0.0->google-crc32c<2.0dev,>=1.0->google-resumable-media<2.0dev,>=1.2.0->google-cloud-storage==1.36.2->-r ../requirements.txt (line 3)) (2.20)\n",
      "Requirement already satisfied: pyparsing>=2.0.2 in /opt/conda/lib/python3.7/site-packages (from packaging>=14.3->google-api-core<2.0.0dev,>=1.21.0->google-cloud-core==1.6.0->-r ../requirements.txt (line 1)) (2.4.7)\n",
      "Requirement already satisfied: pyasn1<0.5.0,>=0.4.6 in /opt/conda/lib/python3.7/site-packages (from pyasn1-modules>=0.2.1->google-auth<2.0dev,>=1.24.0->google-cloud-core==1.6.0->-r ../requirements.txt (line 1)) (0.4.8)\n",
      "Requirement already satisfied: urllib3<1.27,>=1.21.1 in /opt/conda/lib/python3.7/site-packages (from requests<3.0.0dev,>=2.18.0->google-cloud-storage==1.36.2->-r ../requirements.txt (line 3)) (1.26.4)\n",
      "Requirement already satisfied: chardet<5,>=3.0.2 in /opt/conda/lib/python3.7/site-packages (from requests<3.0.0dev,>=2.18.0->google-cloud-storage==1.36.2->-r ../requirements.txt (line 3)) (4.0.0)\n",
      "Requirement already satisfied: idna<3,>=2.5 in /opt/conda/lib/python3.7/site-packages (from requests<3.0.0dev,>=2.18.0->google-cloud-storage==1.36.2->-r ../requirements.txt (line 3)) (2.10)\n",
      "Requirement already satisfied: certifi>=2017.4.17 in /opt/conda/lib/python3.7/site-packages (from requests<3.0.0dev,>=2.18.0->google-cloud-storage==1.36.2->-r ../requirements.txt (line 3)) (2020.12.5)\n"
     ]
    }
   ],
   "source": [
    "# Install necessary Python libraries and restart your kernel after.\n",
    "!python -m pip install -r ../requirements.txt"
   ]
  },
  {
   "cell_type": "markdown",
   "id": "ea4b7c9e",
   "metadata": {},
   "source": [
    "## Set your Processor Variables"
   ]
  },
  {
   "cell_type": "code",
   "execution_count": 2,
   "id": "306e64b8",
   "metadata": {},
   "outputs": [],
   "source": [
    "# TODO(developer): Fill these variables with your values before running the sample\n",
    "PROJECT_ID= 'rand-automl-project'\n",
    "LOCATION = 'us' # Format is 'us' or 'eu'\n",
    "PROCESSOR_ID = 'f8bd845a6e664b68' # Create processor in Cloud Console\n",
    "FILE_PATH = '../resources/lending/splitter_classifier/federal_package_sample.pdf'\n",
    "\n",
    "#GCS_INPUT_BUCKET = 'cloud-samples-data'\n",
    "#GCS_INPUT_PREFIX = 'documentai/async_invoices/'\n",
    "#GCS_OUTPUT_URI = 'gs://YOUR-OUTPUT-BUCKET'\n",
    "#GCS_OUTPUT_URI_PREFIX = 'TEST'\n",
    "#TIMEOUT = 300"
   ]
  },
  {
   "cell_type": "markdown",
   "id": "89120c2d",
   "metadata": {},
   "source": [
    "Now let's define the function to process the document with Document AI Python client "
   ]
  },
  {
   "cell_type": "code",
   "execution_count": 3,
   "id": "9fe8877e",
   "metadata": {},
   "outputs": [],
   "source": [
    "# Import necessary Python modules\n",
    "from google.cloud import documentai_v1beta3 as documentai"
   ]
  },
  {
   "cell_type": "code",
   "execution_count": 4,
   "id": "048c77f2",
   "metadata": {},
   "outputs": [],
   "source": [
    "def process_document_sample(\n",
    "    project_id: str, location: str, processor_id: str, file_path: str\n",
    "):\n",
    "\n",
    "    # Instantiates a client\n",
    "    opts = {\"api_endpoint\": f\"{location}-documentai.googleapis.com\"}\n",
    "    client = documentai.DocumentProcessorServiceClient(client_options=opts)\n",
    "\n",
    "    # The full resource name of the processor, e.g.:\n",
    "    # projects/project-id/locations/location/processor/processor-id\n",
    "    # You must create new processors in the Cloud Console first\n",
    "    name = f\"projects/{project_id}/locations/{location}/processors/{processor_id}\"\n",
    "\n",
    "    with open(file_path, \"rb\") as image:\n",
    "        image_content = image.read()\n",
    "\n",
    "    # Read the file into memory\n",
    "    document = {\"content\": image_content, \"mime_type\": \"application/pdf\"}\n",
    "\n",
    "    # Configure the process request\n",
    "    request = {\"name\": name, \"document\": document}\n",
    "\n",
    "    # Recognizes text entities in the PDF document\n",
    "    result = client.process_document(request=request)\n",
    "\n",
    "    document = result.document\n",
    "    print(\"Document processing complete.\")\n",
    "\n",
    "    # For a full list of Document object attributes, please reference this page: https://googleapis.dev/python/documentai/latest/_modules/google/cloud/documentai_v1beta3/types/document.html#Document\n",
    "\n",
    "    document_pages = document.pages\n",
    "\n",
    "    # Read the text recognition output from the processor\n",
    "    text = document.text\n",
    "    print(\"The document contains the following text (first 100 characters):\")\n",
    "    print(text[:100])\n",
    "    \n",
    "    # Read the detected page split from the processor\n",
    "    print(\"\\nThe processor detected the following page split entities:\")\n",
    "    print_pages_split(text, document)\n",
    "\n",
    "\n",
    "def print_pages_split(text: str, document: dict):\n",
    "    \"\"\"\n",
    "    Document AI identifies possible page splits\n",
    "    in document. This function converts page splits\n",
    "    to text snippets and prints it.    \n",
    "    \"\"\"\n",
    "    for i, entity in enumerate(document.entities):\n",
    "        confidence = entity.confidence\n",
    "        doc_type = entity.type_\n",
    "        text_entity = ''\n",
    "        for segment in entity.text_anchor.text_segments:\n",
    "            start = segment.start_index\n",
    "            end = segment.end_index\n",
    "            text_entity += text[start:end]\n",
    "        pages = [p.page for p in entity.page_anchor.page_refs]\n",
    "        print(f\"*** Document Type: {doc_type} ***\")\n",
    "        print(f\"*** Entity number: {i}, Split Confidence: {confidence} ***\")\n",
    "        print(f\"*** Pages numbers: {[p for p in pages]} ***\\nText snippet: {text_entity[:100]}\")"
   ]
  },
  {
   "cell_type": "markdown",
   "id": "2a76dbd2",
   "metadata": {},
   "source": [
    "We can now run the processor on the sample multi-document pdf."
   ]
  },
  {
   "cell_type": "code",
   "execution_count": 5,
   "id": "c0fe594d",
   "metadata": {},
   "outputs": [
    {
     "name": "stdout",
     "output_type": "stream",
     "text": [
      "Document processing complete.\n",
      "The document contains the following text (first 100 characters):\n",
      "A\n",
      "A\n",
      "A\n",
      "A\n",
      "May\n",
      "A\n",
      "May\n",
      "A\n",
      "A\n",
      "US\n",
      "Affordable Care Act Worksheet\n",
      "2018\n",
      "Name: Dawn Miller\n",
      "SSN: 589-50-0176\n",
      "Did t\n",
      "\n",
      "The processor detected the following page split entities:\n",
      "*** Document Type: other ***\n",
      "*** Entity number: 0, Split Confidence: 0.9956564903259277 ***\n",
      "*** Pages numbers: [0] ***\n",
      "Text snippet: A\n",
      "A\n",
      "A\n",
      "A\n",
      "May\n",
      "A\n",
      "May\n",
      "A\n",
      "A\n",
      "US\n",
      "Affordable Care Act Worksheet\n",
      "2018\n",
      "Name: Dawn Miller\n",
      "SSN: 589-50-0176\n",
      "Did t\n",
      "*** Document Type: 1040_2018 ***\n",
      "*** Entity number: 1, Split Confidence: 0.9490926861763 ***\n",
      "*** Pages numbers: [1, 2] ***\n",
      "Text snippet: 1040\n",
      "2018\n",
      "Department of the Treasury-Internal Revenue Service\n",
      "(99)\n",
      "U.S. Individual Income Tax Return\n",
      "*** Document Type: other ***\n",
      "*** Entity number: 2, Split Confidence: 0.6018480658531189 ***\n",
      "*** Pages numbers: [3] ***\n",
      "Text snippet: OMB No. 1545-0074\n",
      "SCHEDULE 3\n",
      "(Form 1040)\n",
      "Nonrefundable Credits\n",
      "2018\n",
      "49\n",
      "Attach to Form 1040.\n",
      "Departme\n",
      "*** Document Type: other ***\n",
      "*** Entity number: 3, Split Confidence: 0.3719371259212494 ***\n",
      "*** Pages numbers: [4, 5] ***\n",
      "Text snippet: OMB No. 1545-0074\n",
      "SCHEDULE 6\n",
      "(Form 1040)\n",
      "Foreign Address and Third Party Designee\n",
      "2018\n",
      "Department of\n",
      "*** Document Type: 1099misc_2019 ***\n",
      "*** Entity number: 4, Split Confidence: 0.9994231462478638 ***\n",
      "*** Pages numbers: [6] ***\n",
      "Text snippet: Jones and Sons\n",
      "37 Patrick Mountain Cv.\n",
      "Killington VT, 05751\n",
      "0518646\n",
      "01 AV 0.380 AUTO HO 2 2514 46783\n",
      "*** Document Type: w2_2020 ***\n",
      "*** Entity number: 5, Split Confidence: 0.8765536546707153 ***\n",
      "*** Pages numbers: [7] ***\n",
      "Text snippet: a Employee's social security number\n",
      "22222\n",
      "123-45-6789\n",
      "b Employer identification number (EIN)\n",
      "11-2233\n",
      "*** Document Type: 1099misc_2019 ***\n",
      "*** Entity number: 6, Split Confidence: 0.9990885257720947 ***\n",
      "*** Pages numbers: [8] ***\n",
      "Text snippet: OMB No. 1545-0115\n",
      "2019\n",
      "VOID CORRECTED i checked)\n",
      "1 Rents\n",
      "PAYER'S name, street address, city or town,\n",
      "*** Document Type: w2_2019 ***\n",
      "*** Entity number: 7, Split Confidence: 0.8735892176628113 ***\n",
      "*** Pages numbers: [9] ***\n",
      "Text snippet: 112613 Jones-Torres\n",
      "Ashley Henderson\n",
      "W-2\n",
      "Scan QR code to go to TurboTax and import your W-\n",
      "2 informa\n",
      "*** Document Type: w2_2020 ***\n",
      "*** Entity number: 8, Split Confidence: 0.3981022536754608 ***\n",
      "*** Pages numbers: [10] ***\n",
      "Text snippet: Form W-2 Wage & Tax Statement 2019\n",
      "Copy C-For EMPLOYEE'S RECORDS.\n",
      "This information is being furnishe\n",
      "*** Document Type: other ***\n",
      "*** Entity number: 9, Split Confidence: 0.16025003790855408 ***\n",
      "*** Pages numbers: [11, 12] ***\n",
      "Text snippet: 1. The following information reflects your final pay statement plus employer adjustments that\n",
      "compri\n"
     ]
    }
   ],
   "source": [
    "process_document_sample(PROJECT_ID, LOCATION, PROCESSOR_ID, FILE_PATH)"
   ]
  },
  {
   "cell_type": "markdown",
   "id": "9add68a0",
   "metadata": {},
   "source": [
    "---------\n",
    "Congratulations, you've successfully used the Document AI API to extract page logical boundaries from a multipage document. We encourage you to experiment with other documents."
   ]
  }
 ],
 "metadata": {
  "environment": {
   "name": "common-cpu.m65",
   "type": "gcloud",
   "uri": "gcr.io/deeplearning-platform-release/base-cpu:m65"
  },
  "kernelspec": {
   "display_name": "Python 3",
   "language": "python",
   "name": "python3"
  },
  "language_info": {
   "codemirror_mode": {
    "name": "ipython",
    "version": 3
   },
   "file_extension": ".py",
   "mimetype": "text/x-python",
   "name": "python",
   "nbconvert_exporter": "python",
   "pygments_lexer": "ipython3",
   "version": "3.7.10"
  }
 },
 "nbformat": 4,
 "nbformat_minor": 5
}
